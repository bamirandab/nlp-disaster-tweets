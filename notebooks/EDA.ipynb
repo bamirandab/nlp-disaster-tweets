{
 "cells": [
  {
   "cell_type": "markdown",
   "metadata": {},
   "source": [
    "# Exploratory Data Analysis - EDA"
   ]
  },
  {
   "cell_type": "code",
   "execution_count": 1,
   "metadata": {},
   "outputs": [
    {
     "name": "stderr",
     "output_type": "stream",
     "text": [
      "\"kaggle\" no se reconoce como un comando interno o externo,\n",
      "programa o archivo por lotes ejecutable.\n"
     ]
    }
   ],
   "source": [
    "!kaggle competitions download -c nlp-getting-started -p data"
   ]
  },
  {
   "cell_type": "markdown",
   "metadata": {},
   "source": [
    "## Load Data"
   ]
  },
  {
   "cell_type": "code",
   "execution_count": 2,
   "metadata": {},
   "outputs": [],
   "source": [
    "from zipfile import ZipFile\n",
    "import os\n",
    "\n",
    "path = os.path.join('../data/nlp-getting-started.zip')\n",
    "\n",
    "with ZipFile(path, 'r') as zipObj:\n",
    "#    # Extract all the contents of zip file in current directory\n",
    "   zipObj.extractall('../data')"
   ]
  },
  {
   "cell_type": "code",
   "execution_count": 2,
   "metadata": {},
   "outputs": [
    {
     "name": "stdout",
     "output_type": "stream",
     "text": [
      "train dataframe have 7613 rows\n",
      "test dataframe have 3263 rows\n"
     ]
    }
   ],
   "source": [
    "import pandas as pd\n",
    "\n",
    "data_path = '../data/'\n",
    "train_df = pd.read_csv(data_path + 'train.csv', encoding='utf-8')\n",
    "print(\"train dataframe have {} rows\".format(len(train_df)))\n",
    "test_df = pd.read_csv(data_path + 'test.csv', encoding='utf-8')\n",
    "print(\"test dataframe have {} rows\".format(len(test_df)))\n"
   ]
  },
  {
   "cell_type": "code",
   "execution_count": 3,
   "metadata": {},
   "outputs": [
    {
     "data": {
      "text/plain": [
       "id             0\n",
       "keyword       61\n",
       "location    2533\n",
       "text           0\n",
       "target         0\n",
       "dtype: int64"
      ]
     },
     "execution_count": 3,
     "metadata": {},
     "output_type": "execute_result"
    }
   ],
   "source": [
    "train_df.isna().sum()"
   ]
  },
  {
   "cell_type": "code",
   "execution_count": 5,
   "metadata": {},
   "outputs": [],
   "source": [
    "from nltk.tokenize import word_tokenize\n",
    "\n",
    "x = train_df.text.apply(lambda x: word_tokenize(x.lower()))\n"
   ]
  },
  {
   "cell_type": "code",
   "execution_count": 6,
   "metadata": {},
   "outputs": [
    {
     "data": {
      "text/plain": [
       "0       [our, deeds, are, the, reason, of, this, #, ea...\n",
       "1        [forest, fire, near, la, ronge, sask, ., canada]\n",
       "2       [all, residents, asked, to, 'shelter, in, plac...\n",
       "3       [13,000, people, receive, #, wildfires, evacua...\n",
       "4       [just, got, sent, this, photo, from, ruby, #, ...\n",
       "                              ...                        \n",
       "7608    [two, giant, cranes, holding, a, bridge, colla...\n",
       "7609    [@, aria_ahrary, @, thetawniest, the, out, of,...\n",
       "7610    [m1.94, [, 01:04, utc, ], ?, 5km, s, of, volca...\n",
       "7611    [police, investigating, after, an, e-bike, col...\n",
       "7612    [the, latest, :, more, homes, razed, by, north...\n",
       "Name: text, Length: 7613, dtype: object"
      ]
     },
     "execution_count": 6,
     "metadata": {},
     "output_type": "execute_result"
    }
   ],
   "source": [
    "x"
   ]
  }
 ],
 "metadata": {
  "interpreter": {
   "hash": "8b80da2af92e3b75a55390b1609cdb375ef014b10f748f64896d617db5fc62b8"
  },
  "kernelspec": {
   "display_name": "Python 3.8.10 ('venv': venv)",
   "language": "python",
   "name": "python3"
  },
  "language_info": {
   "codemirror_mode": {
    "name": "ipython",
    "version": 3
   },
   "file_extension": ".py",
   "mimetype": "text/x-python",
   "name": "python",
   "nbconvert_exporter": "python",
   "pygments_lexer": "ipython3",
   "version": "3.10.4"
  },
  "orig_nbformat": 4
 },
 "nbformat": 4,
 "nbformat_minor": 2
}
